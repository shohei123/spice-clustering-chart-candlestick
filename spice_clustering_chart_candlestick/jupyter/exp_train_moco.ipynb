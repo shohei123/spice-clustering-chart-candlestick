{
 "cells": [
  {
   "cell_type": "code",
   "execution_count": 1,
   "id": "859c32ed-9415-4e17-8095-8bf4e1d25ba0",
   "metadata": {},
   "outputs": [
    {
     "name": "stdout",
     "output_type": "stream",
     "text": [
      "Requirement already satisfied: torch in /home/shohei/.anyenv/envs/pyenv/versions/3.10.2/lib/python3.10/site-packages (1.11.0+cu113)\n",
      "Requirement already satisfied: typing-extensions in /home/shohei/.anyenv/envs/pyenv/versions/3.10.2/lib/python3.10/site-packages (from torch) (4.1.1)\n",
      "Requirement already satisfied: torchvision in /home/shohei/.anyenv/envs/pyenv/versions/3.10.2/lib/python3.10/site-packages (0.12.0+cu113)\n",
      "Requirement already satisfied: requests in /home/shohei/.anyenv/envs/pyenv/versions/3.10.2/lib/python3.10/site-packages (from torchvision) (2.27.1)\n",
      "Requirement already satisfied: torch==1.11.0 in /home/shohei/.anyenv/envs/pyenv/versions/3.10.2/lib/python3.10/site-packages (from torchvision) (1.11.0+cu113)\n",
      "Requirement already satisfied: numpy in /home/shohei/.anyenv/envs/pyenv/versions/3.10.2/lib/python3.10/site-packages (from torchvision) (1.21.5)\n",
      "Requirement already satisfied: typing-extensions in /home/shohei/.anyenv/envs/pyenv/versions/3.10.2/lib/python3.10/site-packages (from torchvision) (4.1.1)\n",
      "Requirement already satisfied: pillow!=8.3.*,>=5.3.0 in /home/shohei/.anyenv/envs/pyenv/versions/3.10.2/lib/python3.10/site-packages (from torchvision) (9.0.1)\n",
      "Requirement already satisfied: charset-normalizer~=2.0.0 in /home/shohei/.anyenv/envs/pyenv/versions/3.10.2/lib/python3.10/site-packages (from requests->torchvision) (2.0.12)\n",
      "Requirement already satisfied: certifi>=2017.4.17 in /home/shohei/.anyenv/envs/pyenv/versions/3.10.2/lib/python3.10/site-packages (from requests->torchvision) (2021.10.8)\n",
      "Requirement already satisfied: idna<4,>=2.5 in /home/shohei/.anyenv/envs/pyenv/versions/3.10.2/lib/python3.10/site-packages (from requests->torchvision) (3.3)\n",
      "Requirement already satisfied: urllib3<1.27,>=1.21.1 in /home/shohei/.anyenv/envs/pyenv/versions/3.10.2/lib/python3.10/site-packages (from requests->torchvision) (1.26.8)\n"
     ]
    }
   ],
   "source": [
    "!pip install torch\n",
    "!pip install torchvision"
   ]
  },
  {
   "cell_type": "code",
   "execution_count": null,
   "id": "30e11dfc-0029-4af0-a9bd-69138d0df389",
   "metadata": {},
   "outputs": [],
   "source": [
    "!python \"./tools/train_moco_py\""
   ]
  }
 ],
 "metadata": {
  "kernelspec": {
   "display_name": "Python 3 (ipykernel)",
   "language": "python",
   "name": "python3"
  },
  "language_info": {
   "codemirror_mode": {
    "name": "ipython",
    "version": 3
   },
   "file_extension": ".py",
   "mimetype": "text/x-python",
   "name": "python",
   "nbconvert_exporter": "python",
   "pygments_lexer": "ipython3",
   "version": "3.10.2"
  }
 },
 "nbformat": 4,
 "nbformat_minor": 5
}
